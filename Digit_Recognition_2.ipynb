{
  "nbformat": 4,
  "nbformat_minor": 0,
  "metadata": {
    "colab": {
      "provenance": []
    },
    "kernelspec": {
      "name": "python3",
      "display_name": "Python 3"
    },
    "language_info": {
      "name": "python"
    }
  },
  "cells": [
    {
      "cell_type": "markdown",
      "source": [
        "# A digit recognision model by using mnist dataset"
      ],
      "metadata": {
        "id": "exmbrnWGXdXx"
      }
    },
    {
      "cell_type": "markdown",
      "source": [
        "## Importing some library"
      ],
      "metadata": {
        "id": "CLViJz7Bk7jB"
      }
    },
    {
      "cell_type": "code",
      "source": [
        "import numpy as np\n",
        "import pandas as pd\n",
        "import matplotlib.pyplot as plt\n",
        "%matplotlib inline"
      ],
      "metadata": {
        "id": "iUoosQc9XgKd"
      },
      "execution_count": 1,
      "outputs": []
    },
    {
      "cell_type": "code",
      "source": [
        "import tensorflow as tf\n",
        "from tensorflow.keras import layers\n",
        "from tensorflow.keras.layers import Conv2D\n",
        "from tensorflow.keras.layers import MaxPooling2D\n",
        "from tensorflow.keras.layers import Flatten\n",
        "from tensorflow.keras.layers import Dropout\n",
        "from tensorflow.keras.layers import Dense\n",
        "from tensorflow.keras.models import Sequential\n",
        "from tensorflow.keras.optimizers import Adam, SGD"
      ],
      "metadata": {
        "id": "pVvYyBAHfQ5z"
      },
      "execution_count": 2,
      "outputs": []
    },
    {
      "cell_type": "markdown",
      "source": [
        "## Importing mnist data & loading all train and test data"
      ],
      "metadata": {
        "id": "V5-CBsZClIv0"
      }
    },
    {
      "cell_type": "code",
      "source": [
        "from tensorflow.keras.datasets import mnist"
      ],
      "metadata": {
        "id": "qnoJOLMxXwer"
      },
      "execution_count": 3,
      "outputs": []
    },
    {
      "cell_type": "code",
      "source": [
        "(x_train, y_train), (x_test, y_test) = mnist.load_data()"
      ],
      "metadata": {
        "id": "_hzYigGGYNeq"
      },
      "execution_count": 4,
      "outputs": []
    },
    {
      "cell_type": "code",
      "source": [
        "print(x_train.shape)\n",
        "print(x_test.shape)"
      ],
      "metadata": {
        "colab": {
          "base_uri": "https://localhost:8080/"
        },
        "id": "msM2P2HJY3jz",
        "outputId": "04289f30-5761-49a4-fd7a-0743ddcb1e57"
      },
      "execution_count": 5,
      "outputs": [
        {
          "output_type": "stream",
          "name": "stdout",
          "text": [
            "(60000, 28, 28)\n",
            "(10000, 28, 28)\n"
          ]
        }
      ]
    },
    {
      "cell_type": "markdown",
      "source": [
        "### Converting all value from 0 to 1"
      ],
      "metadata": {
        "id": "hDF-WPE4lyHY"
      }
    },
    {
      "cell_type": "code",
      "source": [
        "x_train = x_train/255.\n",
        "x_test = x_test/255."
      ],
      "metadata": {
        "id": "jsFrIeNqZFzP"
      },
      "execution_count": 6,
      "outputs": []
    },
    {
      "cell_type": "code",
      "source": [
        "x_train[0]"
      ],
      "metadata": {
        "colab": {
          "base_uri": "https://localhost:8080/"
        },
        "id": "SOhR3d1tZo76",
        "outputId": "a3ca88c2-41c8-4281-f427-9b0660221513"
      },
      "execution_count": 7,
      "outputs": [
        {
          "output_type": "execute_result",
          "data": {
            "text/plain": [
              "array([[0.        , 0.        , 0.        , 0.        , 0.        ,\n",
              "        0.        , 0.        , 0.        , 0.        , 0.        ,\n",
              "        0.        , 0.        , 0.        , 0.        , 0.        ,\n",
              "        0.        , 0.        , 0.        , 0.        , 0.        ,\n",
              "        0.        , 0.        , 0.        , 0.        , 0.        ,\n",
              "        0.        , 0.        , 0.        ],\n",
              "       [0.        , 0.        , 0.        , 0.        , 0.        ,\n",
              "        0.        , 0.        , 0.        , 0.        , 0.        ,\n",
              "        0.        , 0.        , 0.        , 0.        , 0.        ,\n",
              "        0.        , 0.        , 0.        , 0.        , 0.        ,\n",
              "        0.        , 0.        , 0.        , 0.        , 0.        ,\n",
              "        0.        , 0.        , 0.        ],\n",
              "       [0.        , 0.        , 0.        , 0.        , 0.        ,\n",
              "        0.        , 0.        , 0.        , 0.        , 0.        ,\n",
              "        0.        , 0.        , 0.        , 0.        , 0.        ,\n",
              "        0.        , 0.        , 0.        , 0.        , 0.        ,\n",
              "        0.        , 0.        , 0.        , 0.        , 0.        ,\n",
              "        0.        , 0.        , 0.        ],\n",
              "       [0.        , 0.        , 0.        , 0.        , 0.        ,\n",
              "        0.        , 0.        , 0.        , 0.        , 0.        ,\n",
              "        0.        , 0.        , 0.        , 0.        , 0.        ,\n",
              "        0.        , 0.        , 0.        , 0.        , 0.        ,\n",
              "        0.        , 0.        , 0.        , 0.        , 0.        ,\n",
              "        0.        , 0.        , 0.        ],\n",
              "       [0.        , 0.        , 0.        , 0.        , 0.        ,\n",
              "        0.        , 0.        , 0.        , 0.        , 0.        ,\n",
              "        0.        , 0.        , 0.        , 0.        , 0.        ,\n",
              "        0.        , 0.        , 0.        , 0.        , 0.        ,\n",
              "        0.        , 0.        , 0.        , 0.        , 0.        ,\n",
              "        0.        , 0.        , 0.        ],\n",
              "       [0.        , 0.        , 0.        , 0.        , 0.        ,\n",
              "        0.        , 0.        , 0.        , 0.        , 0.        ,\n",
              "        0.        , 0.        , 0.01176471, 0.07058824, 0.07058824,\n",
              "        0.07058824, 0.49411765, 0.53333333, 0.68627451, 0.10196078,\n",
              "        0.65098039, 1.        , 0.96862745, 0.49803922, 0.        ,\n",
              "        0.        , 0.        , 0.        ],\n",
              "       [0.        , 0.        , 0.        , 0.        , 0.        ,\n",
              "        0.        , 0.        , 0.        , 0.11764706, 0.14117647,\n",
              "        0.36862745, 0.60392157, 0.66666667, 0.99215686, 0.99215686,\n",
              "        0.99215686, 0.99215686, 0.99215686, 0.88235294, 0.6745098 ,\n",
              "        0.99215686, 0.94901961, 0.76470588, 0.25098039, 0.        ,\n",
              "        0.        , 0.        , 0.        ],\n",
              "       [0.        , 0.        , 0.        , 0.        , 0.        ,\n",
              "        0.        , 0.        , 0.19215686, 0.93333333, 0.99215686,\n",
              "        0.99215686, 0.99215686, 0.99215686, 0.99215686, 0.99215686,\n",
              "        0.99215686, 0.99215686, 0.98431373, 0.36470588, 0.32156863,\n",
              "        0.32156863, 0.21960784, 0.15294118, 0.        , 0.        ,\n",
              "        0.        , 0.        , 0.        ],\n",
              "       [0.        , 0.        , 0.        , 0.        , 0.        ,\n",
              "        0.        , 0.        , 0.07058824, 0.85882353, 0.99215686,\n",
              "        0.99215686, 0.99215686, 0.99215686, 0.99215686, 0.77647059,\n",
              "        0.71372549, 0.96862745, 0.94509804, 0.        , 0.        ,\n",
              "        0.        , 0.        , 0.        , 0.        , 0.        ,\n",
              "        0.        , 0.        , 0.        ],\n",
              "       [0.        , 0.        , 0.        , 0.        , 0.        ,\n",
              "        0.        , 0.        , 0.        , 0.31372549, 0.61176471,\n",
              "        0.41960784, 0.99215686, 0.99215686, 0.80392157, 0.04313725,\n",
              "        0.        , 0.16862745, 0.60392157, 0.        , 0.        ,\n",
              "        0.        , 0.        , 0.        , 0.        , 0.        ,\n",
              "        0.        , 0.        , 0.        ],\n",
              "       [0.        , 0.        , 0.        , 0.        , 0.        ,\n",
              "        0.        , 0.        , 0.        , 0.        , 0.05490196,\n",
              "        0.00392157, 0.60392157, 0.99215686, 0.35294118, 0.        ,\n",
              "        0.        , 0.        , 0.        , 0.        , 0.        ,\n",
              "        0.        , 0.        , 0.        , 0.        , 0.        ,\n",
              "        0.        , 0.        , 0.        ],\n",
              "       [0.        , 0.        , 0.        , 0.        , 0.        ,\n",
              "        0.        , 0.        , 0.        , 0.        , 0.        ,\n",
              "        0.        , 0.54509804, 0.99215686, 0.74509804, 0.00784314,\n",
              "        0.        , 0.        , 0.        , 0.        , 0.        ,\n",
              "        0.        , 0.        , 0.        , 0.        , 0.        ,\n",
              "        0.        , 0.        , 0.        ],\n",
              "       [0.        , 0.        , 0.        , 0.        , 0.        ,\n",
              "        0.        , 0.        , 0.        , 0.        , 0.        ,\n",
              "        0.        , 0.04313725, 0.74509804, 0.99215686, 0.2745098 ,\n",
              "        0.        , 0.        , 0.        , 0.        , 0.        ,\n",
              "        0.        , 0.        , 0.        , 0.        , 0.        ,\n",
              "        0.        , 0.        , 0.        ],\n",
              "       [0.        , 0.        , 0.        , 0.        , 0.        ,\n",
              "        0.        , 0.        , 0.        , 0.        , 0.        ,\n",
              "        0.        , 0.        , 0.1372549 , 0.94509804, 0.88235294,\n",
              "        0.62745098, 0.42352941, 0.00392157, 0.        , 0.        ,\n",
              "        0.        , 0.        , 0.        , 0.        , 0.        ,\n",
              "        0.        , 0.        , 0.        ],\n",
              "       [0.        , 0.        , 0.        , 0.        , 0.        ,\n",
              "        0.        , 0.        , 0.        , 0.        , 0.        ,\n",
              "        0.        , 0.        , 0.        , 0.31764706, 0.94117647,\n",
              "        0.99215686, 0.99215686, 0.46666667, 0.09803922, 0.        ,\n",
              "        0.        , 0.        , 0.        , 0.        , 0.        ,\n",
              "        0.        , 0.        , 0.        ],\n",
              "       [0.        , 0.        , 0.        , 0.        , 0.        ,\n",
              "        0.        , 0.        , 0.        , 0.        , 0.        ,\n",
              "        0.        , 0.        , 0.        , 0.        , 0.17647059,\n",
              "        0.72941176, 0.99215686, 0.99215686, 0.58823529, 0.10588235,\n",
              "        0.        , 0.        , 0.        , 0.        , 0.        ,\n",
              "        0.        , 0.        , 0.        ],\n",
              "       [0.        , 0.        , 0.        , 0.        , 0.        ,\n",
              "        0.        , 0.        , 0.        , 0.        , 0.        ,\n",
              "        0.        , 0.        , 0.        , 0.        , 0.        ,\n",
              "        0.0627451 , 0.36470588, 0.98823529, 0.99215686, 0.73333333,\n",
              "        0.        , 0.        , 0.        , 0.        , 0.        ,\n",
              "        0.        , 0.        , 0.        ],\n",
              "       [0.        , 0.        , 0.        , 0.        , 0.        ,\n",
              "        0.        , 0.        , 0.        , 0.        , 0.        ,\n",
              "        0.        , 0.        , 0.        , 0.        , 0.        ,\n",
              "        0.        , 0.        , 0.97647059, 0.99215686, 0.97647059,\n",
              "        0.25098039, 0.        , 0.        , 0.        , 0.        ,\n",
              "        0.        , 0.        , 0.        ],\n",
              "       [0.        , 0.        , 0.        , 0.        , 0.        ,\n",
              "        0.        , 0.        , 0.        , 0.        , 0.        ,\n",
              "        0.        , 0.        , 0.        , 0.        , 0.18039216,\n",
              "        0.50980392, 0.71764706, 0.99215686, 0.99215686, 0.81176471,\n",
              "        0.00784314, 0.        , 0.        , 0.        , 0.        ,\n",
              "        0.        , 0.        , 0.        ],\n",
              "       [0.        , 0.        , 0.        , 0.        , 0.        ,\n",
              "        0.        , 0.        , 0.        , 0.        , 0.        ,\n",
              "        0.        , 0.        , 0.15294118, 0.58039216, 0.89803922,\n",
              "        0.99215686, 0.99215686, 0.99215686, 0.98039216, 0.71372549,\n",
              "        0.        , 0.        , 0.        , 0.        , 0.        ,\n",
              "        0.        , 0.        , 0.        ],\n",
              "       [0.        , 0.        , 0.        , 0.        , 0.        ,\n",
              "        0.        , 0.        , 0.        , 0.        , 0.        ,\n",
              "        0.09411765, 0.44705882, 0.86666667, 0.99215686, 0.99215686,\n",
              "        0.99215686, 0.99215686, 0.78823529, 0.30588235, 0.        ,\n",
              "        0.        , 0.        , 0.        , 0.        , 0.        ,\n",
              "        0.        , 0.        , 0.        ],\n",
              "       [0.        , 0.        , 0.        , 0.        , 0.        ,\n",
              "        0.        , 0.        , 0.        , 0.09019608, 0.25882353,\n",
              "        0.83529412, 0.99215686, 0.99215686, 0.99215686, 0.99215686,\n",
              "        0.77647059, 0.31764706, 0.00784314, 0.        , 0.        ,\n",
              "        0.        , 0.        , 0.        , 0.        , 0.        ,\n",
              "        0.        , 0.        , 0.        ],\n",
              "       [0.        , 0.        , 0.        , 0.        , 0.        ,\n",
              "        0.        , 0.07058824, 0.67058824, 0.85882353, 0.99215686,\n",
              "        0.99215686, 0.99215686, 0.99215686, 0.76470588, 0.31372549,\n",
              "        0.03529412, 0.        , 0.        , 0.        , 0.        ,\n",
              "        0.        , 0.        , 0.        , 0.        , 0.        ,\n",
              "        0.        , 0.        , 0.        ],\n",
              "       [0.        , 0.        , 0.        , 0.        , 0.21568627,\n",
              "        0.6745098 , 0.88627451, 0.99215686, 0.99215686, 0.99215686,\n",
              "        0.99215686, 0.95686275, 0.52156863, 0.04313725, 0.        ,\n",
              "        0.        , 0.        , 0.        , 0.        , 0.        ,\n",
              "        0.        , 0.        , 0.        , 0.        , 0.        ,\n",
              "        0.        , 0.        , 0.        ],\n",
              "       [0.        , 0.        , 0.        , 0.        , 0.53333333,\n",
              "        0.99215686, 0.99215686, 0.99215686, 0.83137255, 0.52941176,\n",
              "        0.51764706, 0.0627451 , 0.        , 0.        , 0.        ,\n",
              "        0.        , 0.        , 0.        , 0.        , 0.        ,\n",
              "        0.        , 0.        , 0.        , 0.        , 0.        ,\n",
              "        0.        , 0.        , 0.        ],\n",
              "       [0.        , 0.        , 0.        , 0.        , 0.        ,\n",
              "        0.        , 0.        , 0.        , 0.        , 0.        ,\n",
              "        0.        , 0.        , 0.        , 0.        , 0.        ,\n",
              "        0.        , 0.        , 0.        , 0.        , 0.        ,\n",
              "        0.        , 0.        , 0.        , 0.        , 0.        ,\n",
              "        0.        , 0.        , 0.        ],\n",
              "       [0.        , 0.        , 0.        , 0.        , 0.        ,\n",
              "        0.        , 0.        , 0.        , 0.        , 0.        ,\n",
              "        0.        , 0.        , 0.        , 0.        , 0.        ,\n",
              "        0.        , 0.        , 0.        , 0.        , 0.        ,\n",
              "        0.        , 0.        , 0.        , 0.        , 0.        ,\n",
              "        0.        , 0.        , 0.        ],\n",
              "       [0.        , 0.        , 0.        , 0.        , 0.        ,\n",
              "        0.        , 0.        , 0.        , 0.        , 0.        ,\n",
              "        0.        , 0.        , 0.        , 0.        , 0.        ,\n",
              "        0.        , 0.        , 0.        , 0.        , 0.        ,\n",
              "        0.        , 0.        , 0.        , 0.        , 0.        ,\n",
              "        0.        , 0.        , 0.        ]])"
            ]
          },
          "metadata": {},
          "execution_count": 7
        }
      ]
    },
    {
      "cell_type": "code",
      "source": [
        "x_train[0].max()"
      ],
      "metadata": {
        "colab": {
          "base_uri": "https://localhost:8080/"
        },
        "id": "PDZpctmeZwaw",
        "outputId": "4b0f8452-57e5-49ec-c4d0-d738c368e918"
      },
      "execution_count": 8,
      "outputs": [
        {
          "output_type": "execute_result",
          "data": {
            "text/plain": [
              "1.0"
            ]
          },
          "metadata": {},
          "execution_count": 8
        }
      ]
    },
    {
      "cell_type": "code",
      "source": [
        "x_train[0].min()"
      ],
      "metadata": {
        "colab": {
          "base_uri": "https://localhost:8080/"
        },
        "id": "N9tliunwZ4ke",
        "outputId": "c8a52472-04bc-4df4-b096-680b323073d9"
      },
      "execution_count": 9,
      "outputs": [
        {
          "output_type": "execute_result",
          "data": {
            "text/plain": [
              "0.0"
            ]
          },
          "metadata": {},
          "execution_count": 9
        }
      ]
    },
    {
      "cell_type": "code",
      "source": [
        "plt.imshow(x_train[0])"
      ],
      "metadata": {
        "colab": {
          "base_uri": "https://localhost:8080/",
          "height": 283
        },
        "id": "2Ns8ZCazZ9Rj",
        "outputId": "9c3479f5-fa0d-45a6-ae53-465293234fb2"
      },
      "execution_count": 10,
      "outputs": [
        {
          "output_type": "execute_result",
          "data": {
            "text/plain": [
              "<matplotlib.image.AxesImage at 0x7f4da0defdf0>"
            ]
          },
          "metadata": {},
          "execution_count": 10
        },
        {
          "output_type": "display_data",
          "data": {
            "text/plain": [
              "<Figure size 432x288 with 1 Axes>"
            ],
            "image/png": "[encoded data removed]"
          },
          "metadata": {
            "needs_background": "light"
          }
        }
      ]
    },
    {
      "cell_type": "markdown",
      "source": [
        "## Creating a Deep Learning  model"
      ],
      "metadata": {
        "id": "iCMN5Zcam3N5"
      }
    },
    {
      "cell_type": "code",
      "source": [
        "model = Sequential()\n",
        "model.add(Conv2D(filters=32, kernel_size=(3, 3), activation='relu', input_shape=(28, 28, 1)))\n",
        "model.add(MaxPooling2D((2, 2)))\n",
        "model.add(layers.BatchNormalization())\n",
        "model.add(Dropout(0.5))\n",
        "model.add(Conv2D(filters=64, kernel_size=(3, 3), activation='relu'))\n",
        "model.add(MaxPooling2D((2, 2)))\n",
        "model.add(layers.BatchNormalization())\n",
        "model.add(Flatten())\n",
        "\n",
        "model.add(Dense(64, activation='relu'))\n",
        "model.add(Dropout(0.3))\n",
        "model.add(Dense(32, activation='relu'))\n",
        "model.add(Dense(10, activation='softmax'))"
      ],
      "metadata": {
        "id": "-ZH7D509aUlF"
      },
      "execution_count": 11,
      "outputs": []
    },
    {
      "cell_type": "code",
      "source": [
        "model.summary()"
      ],
      "metadata": {
        "colab": {
          "base_uri": "https://localhost:8080/"
        },
        "id": "HRM99jvRnZue",
        "outputId": "87c00567-f41d-42b0-d93a-fbe9e9f3463c"
      },
      "execution_count": 12,
      "outputs": [
        {
          "output_type": "stream",
          "name": "stdout",
          "text": [
            "Model: \"sequential\"\n",
            "_________________________________________________________________\n",
            " Layer (type)                Output Shape              Param #   \n",
            "=================================================================\n",
            " conv2d (Conv2D)             (None, 26, 26, 32)        320       \n",
            "                                                                 \n",
            " max_pooling2d (MaxPooling2D  (None, 13, 13, 32)       0         \n",
            " )                                                               \n",
            "                                                                 \n",
            " batch_normalization (BatchN  (None, 13, 13, 32)       128       \n",
            " ormalization)                                                   \n",
            "                                                                 \n",
            " dropout (Dropout)           (None, 13, 13, 32)        0         \n",
            "                                                                 \n",
            " conv2d_1 (Conv2D)           (None, 11, 11, 64)        18496     \n",
            "                                                                 \n",
            " max_pooling2d_1 (MaxPooling  (None, 5, 5, 64)         0         \n",
            " 2D)                                                             \n",
            "                                                                 \n",
            " batch_normalization_1 (Batc  (None, 5, 5, 64)         256       \n",
            " hNormalization)                                                 \n",
            "                                                                 \n",
            " flatten (Flatten)           (None, 1600)              0         \n",
            "                                                                 \n",
            " dense (Dense)               (None, 64)                102464    \n",
            "                                                                 \n",
            " dropout_1 (Dropout)         (None, 64)                0         \n",
            "                                                                 \n",
            " dense_1 (Dense)             (None, 32)                2080      \n",
            "                                                                 \n",
            " dense_2 (Dense)             (None, 10)                330       \n",
            "                                                                 \n",
            "=================================================================\n",
            "Total params: 124,074\n",
            "Trainable params: 123,882\n",
            "Non-trainable params: 192\n",
            "_________________________________________________________________\n"
          ]
        }
      ]
    },
    {
      "cell_type": "code",
      "source": [
        "earlystop = tf.keras.callbacks.EarlyStopping(\n",
        "    monitor='val_loss',\n",
        "    min_delta=0,\n",
        "    patience=25,\n",
        "    verbose=1, \n",
        "    restore_best_weights= True\n",
        "    )\n",
        "reduce_lr=tf.keras.callbacks.ReduceLROnPlateau(\n",
        "    monitor='val_loss',\n",
        "    factor=0.8,\n",
        "    patience=5,\n",
        "    verbose=1,\n",
        "    min_delta=0.0001\n",
        ")"
      ],
      "metadata": {
        "id": "EWRjegDI5r4a"
      },
      "execution_count": 13,
      "outputs": []
    },
    {
      "cell_type": "code",
      "source": [
        "callback=[earlystop, reduce_lr]"
      ],
      "metadata": {
        "id": "cl5D40PG7pPm"
      },
      "execution_count": 14,
      "outputs": []
    },
    {
      "cell_type": "code",
      "source": [
        "model.compile(optimizer='adam', loss='sparse_categorical_crossentropy',metrics=['accuracy'])"
      ],
      "metadata": {
        "id": "Wjg4ad4bfypt"
      },
      "execution_count": 15,
      "outputs": []
    },
    {
      "cell_type": "code",
      "source": [
        "model.fit(x_train, y_train, epochs=100, validation_split=0.2, callbacks=callback)"
      ],
      "metadata": {
        "colab": {
          "base_uri": "https://localhost:8080/"
        },
        "id": "BI27F7U59iY3",
        "outputId": "d14e8a53-dedf-499f-b56c-1a93dbb8df26"
      },
      "execution_count": 16,
      "outputs": [
        {
          "output_type": "stream",
          "name": "stdout",
          "text": [
            "Epoch 1/100\n",
            "1500/1500 [==============================] - 74s 47ms/step - loss: 0.2540 - accuracy: 0.9208 - val_loss: 0.0917 - val_accuracy: 0.9741 - lr: 0.0010\n",
            "Epoch 2/100\n",
            "1500/1500 [==============================] - 59s 39ms/step - loss: 0.1181 - accuracy: 0.9648 - val_loss: 0.0647 - val_accuracy: 0.9822 - lr: 0.0010\n",
            "Epoch 3/100\n",
            "1500/1500 [==============================] - 62s 42ms/step - loss: 0.0962 - accuracy: 0.9717 - val_loss: 0.0635 - val_accuracy: 0.9816 - lr: 0.0010\n",
            "Epoch 4/100\n",
            "1500/1500 [==============================] - 60s 40ms/step - loss: 0.0838 - accuracy: 0.9754 - val_loss: 0.0494 - val_accuracy: 0.9861 - lr: 0.0010\n",
            "Epoch 5/100\n",
            "1500/1500 [==============================] - 60s 40ms/step - loss: 0.0707 - accuracy: 0.9787 - val_loss: 0.0515 - val_accuracy: 0.9862 - lr: 0.0010\n",
            "Epoch 6/100\n",
            "1500/1500 [==============================] - 59s 39ms/step - loss: 0.0642 - accuracy: 0.9805 - val_loss: 0.0438 - val_accuracy: 0.9884 - lr: 0.0010\n",
            "Epoch 7/100\n",
            "1500/1500 [==============================] - 60s 40ms/step - loss: 0.0580 - accuracy: 0.9824 - val_loss: 0.0490 - val_accuracy: 0.9883 - lr: 0.0010\n",
            "Epoch 8/100\n",
            "1500/1500 [==============================] - 60s 40ms/step - loss: 0.0552 - accuracy: 0.9838 - val_loss: 0.0421 - val_accuracy: 0.9883 - lr: 0.0010\n",
            "Epoch 9/100\n",
            "1500/1500 [==============================] - 58s 39ms/step - loss: 0.0497 - accuracy: 0.9848 - val_loss: 0.0415 - val_accuracy: 0.9873 - lr: 0.0010\n",
            "Epoch 10/100\n",
            "1500/1500 [==============================] - 60s 40ms/step - loss: 0.0468 - accuracy: 0.9862 - val_loss: 0.0506 - val_accuracy: 0.9878 - lr: 0.0010\n",
            "Epoch 11/100\n",
            "1500/1500 [==============================] - 62s 41ms/step - loss: 0.0476 - accuracy: 0.9858 - val_loss: 0.0383 - val_accuracy: 0.9894 - lr: 0.0010\n",
            "Epoch 12/100\n",
            "1500/1500 [==============================] - 58s 39ms/step - loss: 0.0434 - accuracy: 0.9870 - val_loss: 0.0369 - val_accuracy: 0.9899 - lr: 0.0010\n",
            "Epoch 13/100\n",
            "1500/1500 [==============================] - 60s 40ms/step - loss: 0.0416 - accuracy: 0.9874 - val_loss: 0.0368 - val_accuracy: 0.9912 - lr: 0.0010\n",
            "Epoch 14/100\n",
            "1500/1500 [==============================] - 61s 40ms/step - loss: 0.0391 - accuracy: 0.9884 - val_loss: 0.0397 - val_accuracy: 0.9901 - lr: 0.0010\n",
            "Epoch 15/100\n",
            "1500/1500 [==============================] - 59s 39ms/step - loss: 0.0372 - accuracy: 0.9885 - val_loss: 0.0351 - val_accuracy: 0.9924 - lr: 0.0010\n",
            "Epoch 16/100\n",
            "1500/1500 [==============================] - 60s 40ms/step - loss: 0.0357 - accuracy: 0.9891 - val_loss: 0.0461 - val_accuracy: 0.9889 - lr: 0.0010\n",
            "Epoch 17/100\n",
            "1500/1500 [==============================] - 61s 40ms/step - loss: 0.0346 - accuracy: 0.9890 - val_loss: 0.0397 - val_accuracy: 0.9905 - lr: 0.0010\n",
            "Epoch 18/100\n",
            "1500/1500 [==============================] - 58s 39ms/step - loss: 0.0319 - accuracy: 0.9904 - val_loss: 0.0381 - val_accuracy: 0.9916 - lr: 0.0010\n",
            "Epoch 19/100\n",
            "1500/1500 [==============================] - 62s 41ms/step - loss: 0.0304 - accuracy: 0.9906 - val_loss: 0.0403 - val_accuracy: 0.9905 - lr: 0.0010\n",
            "Epoch 20/100\n",
            "1499/1500 [============================>.] - ETA: 0s - loss: 0.0326 - accuracy: 0.9896\n",
            "Epoch 20: ReduceLROnPlateau reducing learning rate to 0.000800000037997961.\n",
            "1500/1500 [==============================] - 61s 40ms/step - loss: 0.0326 - accuracy: 0.9896 - val_loss: 0.0376 - val_accuracy: 0.9915 - lr: 0.0010\n",
            "Epoch 21/100\n",
            "1500/1500 [==============================] - 60s 40ms/step - loss: 0.0258 - accuracy: 0.9921 - val_loss: 0.0343 - val_accuracy: 0.9916 - lr: 8.0000e-04\n",
            "Epoch 22/100\n",
            "1500/1500 [==============================] - 60s 40ms/step - loss: 0.0235 - accuracy: 0.9926 - val_loss: 0.0366 - val_accuracy: 0.9922 - lr: 8.0000e-04\n",
            "Epoch 23/100\n",
            "1500/1500 [==============================] - 60s 40ms/step - loss: 0.0275 - accuracy: 0.9918 - val_loss: 0.0413 - val_accuracy: 0.9908 - lr: 8.0000e-04\n",
            "Epoch 24/100\n",
            "1500/1500 [==============================] - 59s 39ms/step - loss: 0.0236 - accuracy: 0.9926 - val_loss: 0.0363 - val_accuracy: 0.9917 - lr: 8.0000e-04\n",
            "Epoch 25/100\n",
            "1500/1500 [==============================] - 62s 41ms/step - loss: 0.0243 - accuracy: 0.9922 - val_loss: 0.0398 - val_accuracy: 0.9916 - lr: 8.0000e-04\n",
            "Epoch 26/100\n",
            "1499/1500 [============================>.] - ETA: 0s - loss: 0.0225 - accuracy: 0.9927\n",
            "Epoch 26: ReduceLROnPlateau reducing learning rate to 0.0006400000303983689.\n",
            "1500/1500 [==============================] - 60s 40ms/step - loss: 0.0225 - accuracy: 0.9927 - val_loss: 0.0381 - val_accuracy: 0.9910 - lr: 8.0000e-04\n",
            "Epoch 27/100\n",
            "1500/1500 [==============================] - 59s 39ms/step - loss: 0.0191 - accuracy: 0.9937 - val_loss: 0.0354 - val_accuracy: 0.9932 - lr: 6.4000e-04\n",
            "Epoch 28/100\n",
            "1500/1500 [==============================] - 62s 41ms/step - loss: 0.0184 - accuracy: 0.9942 - val_loss: 0.0370 - val_accuracy: 0.9918 - lr: 6.4000e-04\n",
            "Epoch 29/100\n",
            "1500/1500 [==============================] - 60s 40ms/step - loss: 0.0176 - accuracy: 0.9944 - val_loss: 0.0371 - val_accuracy: 0.9929 - lr: 6.4000e-04\n",
            "Epoch 30/100\n",
            "1500/1500 [==============================] - 61s 40ms/step - loss: 0.0162 - accuracy: 0.9948 - val_loss: 0.0386 - val_accuracy: 0.9924 - lr: 6.4000e-04\n",
            "Epoch 31/100\n",
            "1500/1500 [==============================] - ETA: 0s - loss: 0.0181 - accuracy: 0.9944\n",
            "Epoch 31: ReduceLROnPlateau reducing learning rate to 0.0005120000336319208.\n",
            "1500/1500 [==============================] - 61s 41ms/step - loss: 0.0181 - accuracy: 0.9944 - val_loss: 0.0404 - val_accuracy: 0.9911 - lr: 6.4000e-04\n",
            "Epoch 32/100\n",
            "1500/1500 [==============================] - 62s 41ms/step - loss: 0.0159 - accuracy: 0.9952 - val_loss: 0.0404 - val_accuracy: 0.9925 - lr: 5.1200e-04\n",
            "Epoch 33/100\n",
            "1500/1500 [==============================] - 60s 40ms/step - loss: 0.0160 - accuracy: 0.9951 - val_loss: 0.0405 - val_accuracy: 0.9917 - lr: 5.1200e-04\n",
            "Epoch 34/100\n",
            "1500/1500 [==============================] - 59s 39ms/step - loss: 0.0153 - accuracy: 0.9951 - val_loss: 0.0422 - val_accuracy: 0.9915 - lr: 5.1200e-04\n",
            "Epoch 35/100\n",
            "1500/1500 [==============================] - 60s 40ms/step - loss: 0.0155 - accuracy: 0.9951 - val_loss: 0.0398 - val_accuracy: 0.9923 - lr: 5.1200e-04\n",
            "Epoch 36/100\n",
            "1499/1500 [============================>.] - ETA: 0s - loss: 0.0136 - accuracy: 0.9958\n",
            "Epoch 36: ReduceLROnPlateau reducing learning rate to 0.00040960004553198815.\n",
            "1500/1500 [==============================] - 60s 40ms/step - loss: 0.0137 - accuracy: 0.9958 - val_loss: 0.0378 - val_accuracy: 0.9926 - lr: 5.1200e-04\n",
            "Epoch 37/100\n",
            "1500/1500 [==============================] - 59s 39ms/step - loss: 0.0126 - accuracy: 0.9959 - val_loss: 0.0371 - val_accuracy: 0.9927 - lr: 4.0960e-04\n",
            "Epoch 38/100\n",
            "1500/1500 [==============================] - 62s 42ms/step - loss: 0.0127 - accuracy: 0.9960 - val_loss: 0.0367 - val_accuracy: 0.9928 - lr: 4.0960e-04\n",
            "Epoch 39/100\n",
            "1500/1500 [==============================] - 62s 41ms/step - loss: 0.0141 - accuracy: 0.9953 - val_loss: 0.0392 - val_accuracy: 0.9926 - lr: 4.0960e-04\n",
            "Epoch 40/100\n",
            "1500/1500 [==============================] - 60s 40ms/step - loss: 0.0112 - accuracy: 0.9962 - val_loss: 0.0399 - val_accuracy: 0.9926 - lr: 4.0960e-04\n",
            "Epoch 41/100\n",
            "1500/1500 [==============================] - ETA: 0s - loss: 0.0116 - accuracy: 0.9958\n",
            "Epoch 41: ReduceLROnPlateau reducing learning rate to 0.00032768002711236477.\n",
            "1500/1500 [==============================] - 59s 39ms/step - loss: 0.0116 - accuracy: 0.9958 - val_loss: 0.0409 - val_accuracy: 0.9927 - lr: 4.0960e-04\n",
            "Epoch 42/100\n",
            "1500/1500 [==============================] - 62s 41ms/step - loss: 0.0113 - accuracy: 0.9963 - val_loss: 0.0358 - val_accuracy: 0.9933 - lr: 3.2768e-04\n",
            "Epoch 43/100\n",
            "1500/1500 [==============================] - 61s 41ms/step - loss: 0.0128 - accuracy: 0.9958 - val_loss: 0.0371 - val_accuracy: 0.9927 - lr: 3.2768e-04\n",
            "Epoch 44/100\n",
            "1500/1500 [==============================] - 61s 41ms/step - loss: 0.0109 - accuracy: 0.9964 - val_loss: 0.0388 - val_accuracy: 0.9930 - lr: 3.2768e-04\n",
            "Epoch 45/100\n",
            "1500/1500 [==============================] - 60s 40ms/step - loss: 0.0092 - accuracy: 0.9969 - val_loss: 0.0416 - val_accuracy: 0.9923 - lr: 3.2768e-04\n",
            "Epoch 46/100\n",
            "1500/1500 [==============================] - ETA: 0s - loss: 0.0101 - accuracy: 0.9965Restoring model weights from the end of the best epoch: 21.\n",
            "\n",
            "Epoch 46: ReduceLROnPlateau reducing learning rate to 0.0002621440216898918.\n",
            "1500/1500 [==============================] - 60s 40ms/step - loss: 0.0101 - accuracy: 0.9965 - val_loss: 0.0369 - val_accuracy: 0.9929 - lr: 3.2768e-04\n",
            "Epoch 46: early stopping\n"
          ]
        },
        {
          "output_type": "execute_result",
          "data": {
            "text/plain": [
              "<keras.callbacks.History at 0x7f4dbb26a7f0>"
            ]
          },
          "metadata": {},
          "execution_count": 16
        }
      ]
    },
    {
      "cell_type": "code",
      "source": [
        "model.evaluate(x_test, y_test)"
      ],
      "metadata": {
        "colab": {
          "base_uri": "https://localhost:8080/"
        },
        "id": "1KgEqonJi3z_",
        "outputId": "3e83cd9a-9893-40ea-a617-ba77caa8f6e4"
      },
      "execution_count": 17,
      "outputs": [
        {
          "output_type": "stream",
          "name": "stdout",
          "text": [
            "313/313 [==============================] - 3s 10ms/step - loss: 0.0297 - accuracy: 0.9929\n"
          ]
        },
        {
          "output_type": "execute_result",
          "data": {
            "text/plain": [
              "[0.029686838388442993, 0.992900013923645]"
            ]
          },
          "metadata": {},
          "execution_count": 17
        }
      ]
    },
    {
      "cell_type": "code",
      "source": [
        "plt.imshow(x_test[0])\n",
        "prediction = model.predict(x_test)\n",
        "print('Real value is: ', y_test[0])\n",
        "print('Predicted value is: ', np.argmax(prediction[0]))"
      ],
      "metadata": {
        "colab": {
          "base_uri": "https://localhost:8080/",
          "height": 319
        },
        "id": "-yH2vg3XLD9t",
        "outputId": "24459fc3-ad4d-4aee-c694-8664037892ab"
      },
      "execution_count": 18,
      "outputs": [
        {
          "output_type": "stream",
          "name": "stdout",
          "text": [
            "313/313 [==============================] - 4s 11ms/step\n",
            "Real value is:  7\n",
            "Predicted value is:  7\n"
          ]
        },
        {
          "output_type": "display_data",
          "data": {
            "text/plain": [
              "<Figure size 432x288 with 1 Axes>"
            ],
            "image/png": "[encoded data removed]"
          },
          "metadata": {
            "needs_background": "light"
          }
        }
      ]
    }
  ]
}